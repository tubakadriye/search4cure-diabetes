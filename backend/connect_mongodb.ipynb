{
 "cells": [
  {
   "cell_type": "code",
   "execution_count": 2,
   "metadata": {},
   "outputs": [
    {
     "name": "stdout",
     "output_type": "stream",
     "text": [
      "Collecting pymongo==3.12 (from pymongo[srv]==3.12)\n",
      "  Using cached pymongo-3.12.0.tar.gz (818 kB)\n",
      "  Preparing metadata (setup.py) ... \u001b[?25ldone\n",
      "\u001b[?25hCollecting dnspython<2.0.0,>=1.16.0 (from pymongo[srv]==3.12)\n",
      "  Using cached dnspython-1.16.0-py2.py3-none-any.whl.metadata (1.8 kB)\n",
      "Using cached dnspython-1.16.0-py2.py3-none-any.whl (188 kB)\n",
      "Building wheels for collected packages: pymongo\n",
      "  Building wheel for pymongo (setup.py) ... \u001b[?25ldone\n",
      "\u001b[?25h  Created wheel for pymongo: filename=pymongo-3.12.0-cp312-cp312-macosx_12_0_arm64.whl size=394213 sha256=5c4221c72b7ec7b57be1f836dd8893bee09d0aab160e4a93f83913697f48a1ee\n",
      "  Stored in directory: /Users/tubakaraca/Library/Caches/pip/wheels/4e/49/39/293a3914a095e62eeefc25b88f9f5ace620fc19d9b1883762b\n",
      "Successfully built pymongo\n",
      "Installing collected packages: pymongo, dnspython\n",
      "  Attempting uninstall: dnspython\n",
      "    Found existing installation: dnspython 2.7.0\n",
      "    Uninstalling dnspython-2.7.0:\n",
      "      Successfully uninstalled dnspython-2.7.0\n",
      "\u001b[31mERROR: pip's dependency resolver does not currently take into account all the packages that are installed. This behaviour is the source of the following dependency conflicts.\n",
      "email-validator 2.2.0 requires dnspython>=2.0.0, but you have dnspython 1.16.0 which is incompatible.\u001b[0m\u001b[31m\n",
      "\u001b[0mSuccessfully installed dnspython-1.16.0 pymongo-3.12.0\n",
      "\n",
      "\u001b[1m[\u001b[0m\u001b[34;49mnotice\u001b[0m\u001b[1;39;49m]\u001b[0m\u001b[39;49m A new release of pip is available: \u001b[0m\u001b[31;49m24.3.1\u001b[0m\u001b[39;49m -> \u001b[0m\u001b[32;49m25.1.1\u001b[0m\n",
      "\u001b[1m[\u001b[0m\u001b[34;49mnotice\u001b[0m\u001b[1;39;49m]\u001b[0m\u001b[39;49m To update, run: \u001b[0m\u001b[32;49mpip install --upgrade pip\u001b[0m\n"
     ]
    }
   ],
   "source": [
    "!python -m pip install \"pymongo[srv]\"==3.12"
   ]
  },
  {
   "cell_type": "code",
   "execution_count": 8,
   "metadata": {},
   "outputs": [
    {
     "name": "stdout",
     "output_type": "stream",
     "text": [
      "Pinged your deployment. You successfully connected to MongoDB!\n",
      "MongoDB connection closed.\n"
     ]
    }
   ],
   "source": [
    "\n",
    "from pymongo.mongo_client import MongoClient\n",
    "from pymongo.server_api import ServerApi\n",
    "from urllib.parse import quote_plus\n",
    "\n",
    "username = quote_plus('Tuba')\n",
    "password = quote_plus('di+ig3n(')\n",
    "\n",
    "uri = 'mongodb+srv://' + username + ':' + password + \"@diamind.q4fmjuw.mongodb.net/?retryWrites=true&w=majority&appName=DiaMind\"\n",
    "\n",
    "# Create a new client and connect to the server\n",
    "client = MongoClient(uri, server_api=ServerApi('1'))\n",
    "\n",
    "# Send a ping to confirm a successful connection\n",
    "try:\n",
    "    client.admin.command('ping')\n",
    "    print(\"Pinged your deployment. You successfully connected to MongoDB!\")\n",
    "except Exception as e:\n",
    "    print(e)\n",
    "finally:\n",
    "    client.close()\n",
    "    print(\"MongoDB connection closed.\")"
   ]
  },
  {
   "cell_type": "code",
   "execution_count": null,
   "metadata": {},
   "outputs": [],
   "source": []
  }
 ],
 "metadata": {
  "kernelspec": {
   "display_name": "Python 3",
   "language": "python",
   "name": "python3"
  },
  "language_info": {
   "codemirror_mode": {
    "name": "ipython",
    "version": 3
   },
   "file_extension": ".py",
   "mimetype": "text/x-python",
   "name": "python",
   "nbconvert_exporter": "python",
   "pygments_lexer": "ipython3",
   "version": "3.12.0"
  }
 },
 "nbformat": 4,
 "nbformat_minor": 2
}
